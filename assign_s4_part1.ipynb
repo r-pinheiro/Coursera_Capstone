{
 "cells": [
  {
   "cell_type": "markdown",
   "metadata": {},
   "source": [
    "</h1><h1>Capstone Project - The Battle of Neighborhoods (Week 1)</h1>"
   ]
  },
  {
   "cell_type": "markdown",
   "metadata": {},
   "source": [
    "By: Rafael Pinheiro"
   ]
  },
  {
   "cell_type": "markdown",
   "metadata": {},
   "source": [
    "<h2>Introduction</h2>"
   ]
  },
  {
   "cell_type": "markdown",
   "metadata": {},
   "source": [
    "Sao Paulo is a city with about 22 million inhabitants and the richest city in Brazil, with a GDP of around 130 billion dollars, being one of the largest and richest cities on planet. It is the 10th largest city in the world economically (<a href=https://en.wikipedia.org/wiki/Economy_of_S%C3%A3o_Paulo>Wikipedia</a>).\n",
    "\n",
    "However, like Brazil, Sao Paulo also appears in the highest inequality rankings. This country is the twentieth most unequal on the planet (<a href=https://en.wikipedia.org/wiki/List_of_countries_by_income_equality>Wikipedia</a>). While Sao Paulo was the 9 most unequal city among the largest cities in the world in 2016 (<a href=https://blog.euromonitor.com/income-inequality-ranking-worlds-major-cities>Euromonitor</a>). \n"
   ]
  },
  {
   "cell_type": "markdown",
   "metadata": {},
   "source": [
    "<h2>Problem</h2>"
   ]
  },
  {
   "cell_type": "markdown",
   "metadata": {},
   "source": [
    "HDI (Human Development Index) demonstrates huge difference between regions and districts in Sao Paulo. However, as they are averages that aggregate large areas, it is possible that inequality rates would be even greater if the HDI measure were more granular.\n",
    "\n",
    "In order to granulate the HDI and obtain a more detailed map of inequality, it is proposed to use the zip code suffix (5 digits) and its geographic coordinates as a smaller unit to estimate the HDI, obtaining different points within each district and clustering them.\n"
   ]
  },
  {
   "cell_type": "markdown",
   "metadata": {},
   "source": [
    "<h2>Target Audience</h2>"
   ]
  },
  {
   "cell_type": "markdown",
   "metadata": {},
   "source": [
    "Governments, public policy makers and researchers."
   ]
  },
  {
   "cell_type": "markdown",
   "metadata": {},
   "source": [
    "<h2>Proposed approach</h2>"
   ]
  },
  {
   "cell_type": "markdown",
   "metadata": {},
   "source": [
    "In order to get specific data about each zip code suffix in Sao Paulo, it proposes to use the services and structures retrieved by coordinates in the FourSquare API for each geographic point measured. Besides using Foursquare data, other data sets will be used, such as that which relates zip codes to coordinates in Brazil (<a href=https://www.kaggle.com/olistbr/brazilian-ecommerce>Kaggle</a>), in addition to HDI data by (<a href=https://pt.wikipedia.org/wiki/Lista_de_subprefeituras_de_S%C3%A3o_Paulo_por_%C3%8Dndice_de_Desenvolvimento_Humano>region</a>) and (<a href=https://pt.wikipedia.org/wiki/Lista_dos_distritos_de_S%C3%A3o_Paulo_por_%C3%8Dndice_de_Desenvolvimento_Humano>district</a>)."
   ]
  },
  {
   "cell_type": "markdown",
   "metadata": {},
   "source": [
    "<h2>Expected results</h2>"
   ]
  },
  {
   "cell_type": "markdown",
   "metadata": {},
   "source": [
    "Obtain a detailed view of inequality within the regions and districts of Sao Paulo, not only among them. Group similar areas in terms of the estimated HDI."
   ]
  }
 ],
 "metadata": {
  "kernelspec": {
   "display_name": "Python 3",
   "language": "python",
   "name": "python3"
  },
  "language_info": {
   "codemirror_mode": {
    "name": "ipython",
    "version": 3
   },
   "file_extension": ".py",
   "mimetype": "text/x-python",
   "name": "python",
   "nbconvert_exporter": "python",
   "pygments_lexer": "ipython3",
   "version": "3.7.3"
  }
 },
 "nbformat": 4,
 "nbformat_minor": 2
}
